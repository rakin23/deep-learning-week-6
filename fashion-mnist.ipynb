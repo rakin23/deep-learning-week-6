{
 "cells": [
  {
   "metadata": {},
   "cell_type": "code",
   "outputs": [],
   "execution_count": null,
   "source": [
    "import numpy as np\n",
    "import pandas as pd\n",
    "import matplotlib.pyplot as plt\n",
    "import os\n",
    "import torch\n",
    "import torch.nn as nn\n",
    "import torch.optim as optim\n",
    "import torch.nn.functional as F\n",
    "from torch.utils.data import DataLoader, TensorDataset\n",
    "from flaml import tune\n",
    "import matplotlib.pyplot as plt"
   ],
   "id": "b69cfe196f39c581"
  },
  {
   "metadata": {},
   "cell_type": "markdown",
   "source": [
    "# Step 1: Brief description of the problem and data\n",
    "This project will look at the Fashion MNIST dataset [https://www.kaggle.com/datasets/zalando-research/fashionmnist/data] consisting of a training set of 60,000 examples and a test set of 10,000 examples. Each example is a 28x28 grayscale image, associated with a label from 10 classes.\n",
    "\n",
    "This project seeks to develop a convolutional neural network (CNN) to accurately determine what type of garment is shown in a particular image, such as \"T-shirt/top\", \"Trouser\", or \"Pullover\".  The full mapping of all labels is shown below.  The next snippet of code below that displays a few examples from the training dataset along with the associated label.\n",
    "\n",
    "My Github repository link: [https://github.com/rakin23/deep-learning-week-6]"
   ],
   "id": "eb7010b3c167d4e2"
  },
  {
   "metadata": {
    "ExecuteTime": {
     "end_time": "2025-01-19T16:33:16.303522Z",
     "start_time": "2025-01-19T16:33:16.300613Z"
    }
   },
   "cell_type": "code",
   "source": [
    "# Map the numerical labels (0, 1, 2...) to text labels (T-shirt/top, Trouser, Pullover...)\n",
    "label_to_text_map = [\"T-shirt/top\", \"Trouser\", \"Pullover\", \"Dress\", \"Coat\", \"Sandal\", \"Shirt\", \"Sneaker\", \"Bag\", \"Ankle boot\"]"
   ],
   "id": "323c3091d4a3b4a0",
   "outputs": [],
   "execution_count": 33
  },
  {
   "metadata": {},
   "cell_type": "markdown",
   "source": "I found this dataset interesting because it seeks to replace the well-known MNIST dataset [https://en.wikipedia.org/wiki/MNIST_database], which was used earlier in this 3-course machine learning specialization, as the benchmark to validate algorithms in the AI/ML/Data Science community.",
   "id": "8eaf414db2f03f42"
  },
  {
   "metadata": {},
   "cell_type": "code",
   "outputs": [],
   "execution_count": null,
   "source": "",
   "id": "8100070766c25280"
  }
 ],
 "metadata": {
  "kernelspec": {
   "name": "python3",
   "language": "python",
   "display_name": "Python 3 (ipykernel)"
  }
 },
 "nbformat": 5,
 "nbformat_minor": 9
}
